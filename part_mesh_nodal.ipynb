{
 "cells": [
  {
   "cell_type": "code",
   "execution_count": null,
   "metadata": {
    "collapsed": false
   },
   "outputs": [],
   "source": [
    "import triangle\n",
    "from pylab import *\n",
    "from metis4py import part_mesh_nodal\n",
    "%matplotlib inline"
   ]
  },
  {
   "cell_type": "code",
   "execution_count": null,
   "metadata": {
    "collapsed": false
   },
   "outputs": [],
   "source": [
    "A = {'vertices' : array([[0,0], [1,0], [1, 1], [0, 1]])}\n",
    "B = triangle.triangulate(A, 'qa0.001')\n",
    "\n",
    "x1d = B['vertices'][:,0]\n",
    "y1d = B['vertices'][:,1]\n",
    "triangles = B['triangles']\n",
    "ntri = len(triangles)\n",
    "\n",
    "figure(figsize=(10,10))\n",
    "triplot(x1d,y1d,triangles)\n",
    "plot(x1d, y1d, 'ko')\n",
    "axis('scaled')"
   ]
  },
  {
   "cell_type": "code",
   "execution_count": null,
   "metadata": {
    "collapsed": false
   },
   "outputs": [],
   "source": [
    "ntri = len(B['triangles'])\n",
    "triangles = B['triangles'].flatten()"
   ]
  },
  {
   "cell_type": "code",
   "execution_count": null,
   "metadata": {
    "collapsed": false
   },
   "outputs": [],
   "source": [
    "triangle_idx = range(0,len(triangles)+1,3)\n",
    "\n",
    "def print_nodes(itri):\n",
    "    i0 = triangle_idx[itri]\n",
    "    i1 = triangle_idx[itri+1]\n",
    "    print triangles[i0:i1]\n",
    "    print B['triangles'][itri]\n",
    "\n",
    "print_nodes(itri=0)\n",
    "print_nodes(itri=5)\n",
    "print_nodes(itri=ntri-1)"
   ]
  },
  {
   "cell_type": "code",
   "execution_count": null,
   "metadata": {
    "collapsed": false
   },
   "outputs": [],
   "source": [
    "nparts = 3\n",
    "element_part,node_part = part_mesh_nodal(triangle_idx, triangles,nparts)"
   ]
  },
  {
   "cell_type": "code",
   "execution_count": null,
   "metadata": {
    "collapsed": false
   },
   "outputs": [],
   "source": [
    "figure(figsize=(10,10))\n",
    "tripcolor(x1d, y1d, B['triangles'], facecolors=element_part, \n",
    "          edgecolors='k', cmap=cm.Pastel1)\n",
    "plot(x1d[node_part==0],y1d[node_part==0],'ro')\n",
    "plot(x1d[node_part==1],y1d[node_part==1],'yo')\n",
    "plot(x1d[node_part==2],y1d[node_part==2],'ko')\n",
    "\n",
    "axis('scaled')"
   ]
  },
  {
   "cell_type": "code",
   "execution_count": null,
   "metadata": {
    "collapsed": false
   },
   "outputs": [],
   "source": []
  }
 ],
 "metadata": {
  "kernelspec": {
   "display_name": "Python 2",
   "language": "python",
   "name": "python2"
  },
  "language_info": {
   "codemirror_mode": {
    "name": "ipython",
    "version": 2
   },
   "file_extension": ".py",
   "mimetype": "text/x-python",
   "name": "python",
   "nbconvert_exporter": "python",
   "pygments_lexer": "ipython2",
   "version": "2.7.10"
  }
 },
 "nbformat": 4,
 "nbformat_minor": 0
}
