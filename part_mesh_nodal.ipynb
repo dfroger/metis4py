{
 "cells": [
  {
   "cell_type": "code",
   "execution_count": 1,
   "metadata": {
    "collapsed": false
   },
   "outputs": [
    {
     "name": "stdout",
     "output_type": "stream",
     "text": [
      "Populating the interactive namespace from numpy and matplotlib\n"
     ]
    }
   ],
   "source": [
    "from metis4py import part_mesh_nodal\n",
    "%pylab inline"
   ]
  },
  {
   "cell_type": "code",
   "execution_count": 2,
   "metadata": {
    "collapsed": false
   },
   "outputs": [
    {
     "data": {
      "text/plain": [
       "(-0.5, 3.5)"
      ]
     },
     "execution_count": 2,
     "metadata": {},
     "output_type": "execute_result"
    },
    {
     "data": {
      "image/png": "[encoded data removed]",
      "text/plain": [
       "<matplotlib.figure.Figure at 0x7f39f821d890>"
      ]
     },
     "metadata": {},
     "output_type": "display_data"
    }
   ],
   "source": [
    "# Point coordinates.\n",
    "xpoints = np.array( [0,1,2,3, 0,1,2,3, 0,1,2,3, 0,1,2,3] )\n",
    "ypoints = np.array( [0,0,0,0, 1,1,1,1, 2,2,2,2, 3,3,3,3] )\n",
    "\n",
    "# Triangle vertices.\n",
    "triangles = np.array((\n",
    "    (0,4,1),(1,5,2),(2,6,3),\n",
    "    (4,8,5),(5,9,6),(6,10,7),\n",
    "    (8,9,12),(9,10,13),(10,11,14),\n",
    "    (1,4,5),(2,5,6),(3,6,7),\n",
    "    (5,8,9),(6,9,10),(7,10,11),\n",
    "    (9,12,13),(10,13,14),(11,14,15),\n",
    "))\n",
    "\n",
    "triangles_idx = np.array(\n",
    "    [0,3,6,9,12,15,18,21,24,27,30,33,\n",
    "     36,39,42,45,48,51,54,])\n",
    "\n",
    "# Plot points.\n",
    "plot(xpoints, ypoints, 'ko')\n",
    "\n",
    "# Write point indices.\n",
    "for i,(x,y) in enumerate(zip(xpoints,ypoints)):\n",
    "    text(x+0.1, y+0.1, i)\n",
    "    \n",
    "# Plot triangles.\n",
    "triplot(xpoints, ypoints, triangles)\n",
    "\n",
    "# Write triangle indices.\n",
    "for i,tri in enumerate(triangles):\n",
    "    xtri = average(xpoints[tri])\n",
    "    ytri = average(ypoints[tri])\n",
    "    text(xtri, ytri, i, color='red')\n",
    "    \n",
    "# Plot for example vertices of triangle 7\n",
    "itri = 7\n",
    "i0, i1 = triangles_idx[itri:itri+2]\n",
    "ivtx = triangles.flatten()[i0:i1]\n",
    "plot(xpoints[ivtx], ypoints[ivtx], 'ro')\n",
    "    \n",
    "# Adjust plot.\n",
    "grid()\n",
    "axis('scaled')\n",
    "xlim(-0.5, 3.5)\n",
    "ylim(-0.5, 3.5)"
   ]
  },
  {
   "cell_type": "code",
   "execution_count": 3,
   "metadata": {
    "collapsed": false
   },
   "outputs": [
    {
     "name": "stdout",
     "output_type": "stream",
     "text": [
      "[0 0 0 0 0 1 2 2 1 0 0 1 2 2 1 2 2 1]\n",
      "[0 0 0 2 0 0 1 1 2 2 2 1 2 2 1 1]\n"
     ]
    }
   ],
   "source": [
    "nparts = 3\n",
    "tripart,vtxpart = part_mesh_nodal(triangles_idx,\n",
    "                                  triangles.flatten(),\n",
    "                                  nparts)\n",
    "print tripart\n",
    "print vtxpart"
   ]
  },
  {
   "cell_type": "code",
   "execution_count": 4,
   "metadata": {
    "collapsed": false
   },
   "outputs": [
    {
     "data": {
      "text/plain": [
       "(-0.5, 3.5)"
      ]
     },
     "execution_count": 4,
     "metadata": {},
     "output_type": "execute_result"
    },
    {
     "data": {
      "image/png": "[encoded data removed]",
      "text/plain": [
       "<matplotlib.figure.Figure at 0x7f39f821d1d0>"
      ]
     },
     "metadata": {},
     "output_type": "display_data"
    }
   ],
   "source": [
    "tripcolor(xpoints, ypoints, triangles, facecolors=tripart, \n",
    "          edgecolors='k', cmap=cm.Pastel1)\n",
    "plot(xpoints[vtxpart==0], ypoints[vtxpart==0],'ro')\n",
    "plot(xpoints[vtxpart==1], ypoints[vtxpart==1],'yo')\n",
    "plot(xpoints[vtxpart==2], ypoints[vtxpart==2],'ko')\n",
    "\n",
    "grid()\n",
    "axis('scaled')\n",
    "xlim(-0.5, 3.5)\n",
    "ylim(-0.5, 3.5)"
   ]
  }
 ],
 "metadata": {
  "kernelspec": {
   "display_name": "Python 2",
   "language": "python",
   "name": "python2"
  },
  "language_info": {
   "codemirror_mode": {
    "name": "ipython",
    "version": 2
   },
   "file_extension": ".py",
   "mimetype": "text/x-python",
   "name": "python",
   "nbconvert_exporter": "python",
   "pygments_lexer": "ipython2",
   "version": "2.7.10"
  }
 },
 "nbformat": 4,
 "nbformat_minor": 0
}
