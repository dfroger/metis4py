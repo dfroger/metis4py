{
 "metadata": {
  "name": "",
  "signature": "sha256:7a65462399b5aa6b141d80a8b536c848f826c41672ba109ac7a225247a501c61"
 },
 "nbformat": 3,
 "nbformat_minor": 0,
 "worksheets": [
  {
   "cells": [
    {
     "cell_type": "code",
     "collapsed": false,
     "input": [
      "import triangle\n",
      "from pylab import *\n",
      "from metis4py import part_mesh_nodal\n",
      "%matplotlib inline"
     ],
     "language": "python",
     "metadata": {},
     "outputs": []
    },
    {
     "cell_type": "code",
     "collapsed": false,
     "input": [
      "A = {'vertices' : array([[0,0], [1,0], [1, 1], [0, 1]])}\n",
      "B = triangle.triangulate(A, 'qa0.001')\n",
      "\n",
      "x1d = B['vertices'][:,0]\n",
      "y1d = B['vertices'][:,1]\n",
      "triangles = B['triangles']\n",
      "ntri = len(triangles)\n",
      "\n",
      "figure(figsize=(10,10))\n",
      "triplot(x1d,y1d,triangles)\n",
      "plot(x1d, y1d, 'ko')\n",
      "axis('scaled')"
     ],
     "language": "python",
     "metadata": {},
     "outputs": []
    },
    {
     "cell_type": "code",
     "collapsed": false,
     "input": [
      "ntri = len(B['triangles'])\n",
      "triangles = B['triangles'].flatten()"
     ],
     "language": "python",
     "metadata": {},
     "outputs": []
    },
    {
     "cell_type": "code",
     "collapsed": false,
     "input": [
      "triangle_idx = range(0,len(triangles)+1,3)\n",
      "\n",
      "def print_nodes(itri):\n",
      "    i0 = triangle_idx[itri]\n",
      "    i1 = triangle_idx[itri+1]\n",
      "    print triangles[i0:i1]\n",
      "    print B['triangles'][itri]\n",
      "\n",
      "print_nodes(itri=0)\n",
      "print_nodes(itri=5)\n",
      "print_nodes(itri=ntri-1)"
     ],
     "language": "python",
     "metadata": {},
     "outputs": []
    },
    {
     "cell_type": "code",
     "collapsed": false,
     "input": [
      "nparts = 3\n",
      "err,element_part,node_part = part_mesh_nodal(triangle_idx,\n",
      "                                             triangles,nparts)"
     ],
     "language": "python",
     "metadata": {},
     "outputs": []
    },
    {
     "cell_type": "code",
     "collapsed": false,
     "input": [
      "figure(figsize=(10,10))\n",
      "tripcolor(x1d, y1d, B['triangles'], facecolors=element_part, \n",
      "          edgecolors='k', cmap=cm.Pastel1)\n",
      "plot(x1d[node_part==0],y1d[node_part==0],'ro')\n",
      "plot(x1d[node_part==1],y1d[node_part==1],'yo')\n",
      "plot(x1d[node_part==2],y1d[node_part==2],'ko')\n",
      "\n",
      "axis('scaled')"
     ],
     "language": "python",
     "metadata": {},
     "outputs": []
    },
    {
     "cell_type": "code",
     "collapsed": false,
     "input": [],
     "language": "python",
     "metadata": {},
     "outputs": []
    }
   ],
   "metadata": {}
  }
 ]
}